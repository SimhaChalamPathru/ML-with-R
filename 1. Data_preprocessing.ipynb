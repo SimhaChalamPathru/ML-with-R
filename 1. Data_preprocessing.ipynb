{
  "cells": [
    {
      "cell_type": "markdown",
      "source": [
        "# Data Preprocessing"
      ],
      "metadata": {
        "id": "ONx8DCdJMm4E"
      }
    },
    {
      "cell_type": "code",
      "source": [
        "dataset = read.csv('Data.csv')"
      ],
      "metadata": {
        "id": "eYd5yc6ILxtA"
      },
      "execution_count": 1,
      "outputs": []
    },
    {
      "cell_type": "markdown",
      "source": [
        "# Taking care of missing data"
      ],
      "metadata": {
        "id": "zlfSmCo6M4-n"
      }
    },
    {
      "cell_type": "code",
      "source": [
        "ifelse(is.na(dataset$Age),\n",
        "                     ave(dataset$Age, FUN = function(x) mean(x, na.rm = TRUE)),\n",
        "                     dataset$Age)"
      ],
      "metadata": {
        "id": "tQtfKPicMt1L",
        "outputId": "2ffe3c6c-28d3-4de4-c586-90c4a226912a",
        "colab": {
          "base_uri": "https://localhost:8080/",
          "height": 34
        }
      },
      "execution_count": 2,
      "outputs": [
        {
          "output_type": "display_data",
          "data": {
            "text/html": [
              "<style>\n",
              ".list-inline {list-style: none; margin:0; padding: 0}\n",
              ".list-inline>li {display: inline-block}\n",
              ".list-inline>li:not(:last-child)::after {content: \"\\00b7\"; padding: 0 .5ex}\n",
              "</style>\n",
              "<ol class=list-inline><li>44</li><li>27</li><li>30</li><li>38</li><li>40</li><li>35</li><li>38.7777777777778</li><li>48</li><li>50</li><li>37</li></ol>\n"
            ],
            "text/markdown": "1. 44\n2. 27\n3. 30\n4. 38\n5. 40\n6. 35\n7. 38.7777777777778\n8. 48\n9. 50\n10. 37\n\n\n",
            "text/latex": "\\begin{enumerate*}\n\\item 44\n\\item 27\n\\item 30\n\\item 38\n\\item 40\n\\item 35\n\\item 38.7777777777778\n\\item 48\n\\item 50\n\\item 37\n\\end{enumerate*}\n",
            "text/plain": [
              " [1] 44.00000 27.00000 30.00000 38.00000 40.00000 35.00000 38.77778 48.00000\n",
              " [9] 50.00000 37.00000"
            ]
          },
          "metadata": {}
        }
      ]
    },
    {
      "cell_type": "code",
      "source": [
        "dataset$Age = ifelse(is.na(dataset$Age),\n",
        "                     ave(dataset$Age, FUN = function(x) mean(x, na.rm = TRUE)),\n",
        "                     dataset$Age)"
      ],
      "metadata": {
        "id": "CSOV-ot5NWnX"
      },
      "execution_count": 3,
      "outputs": []
    },
    {
      "cell_type": "code",
      "source": [
        "ifelse(is.na(dataset$Salary),\n",
        "                        ave(dataset$Salary, FUN = function(x) mean(x, na.rm = TRUE)),\n",
        "                        dataset$Salary)"
      ],
      "metadata": {
        "id": "s7RZxoygNbEt",
        "outputId": "4e684a63-a053-4020-ad24-d4a87b07d986",
        "colab": {
          "base_uri": "https://localhost:8080/",
          "height": 34
        }
      },
      "execution_count": 4,
      "outputs": [
        {
          "output_type": "display_data",
          "data": {
            "text/html": [
              "<style>\n",
              ".list-inline {list-style: none; margin:0; padding: 0}\n",
              ".list-inline>li {display: inline-block}\n",
              ".list-inline>li:not(:last-child)::after {content: \"\\00b7\"; padding: 0 .5ex}\n",
              "</style>\n",
              "<ol class=list-inline><li>72000</li><li>48000</li><li>54000</li><li>61000</li><li>63777.7777777778</li><li>58000</li><li>52000</li><li>79000</li><li>83000</li><li>67000</li></ol>\n"
            ],
            "text/markdown": "1. 72000\n2. 48000\n3. 54000\n4. 61000\n5. 63777.7777777778\n6. 58000\n7. 52000\n8. 79000\n9. 83000\n10. 67000\n\n\n",
            "text/latex": "\\begin{enumerate*}\n\\item 72000\n\\item 48000\n\\item 54000\n\\item 61000\n\\item 63777.7777777778\n\\item 58000\n\\item 52000\n\\item 79000\n\\item 83000\n\\item 67000\n\\end{enumerate*}\n",
            "text/plain": [
              " [1] 72000.00 48000.00 54000.00 61000.00 63777.78 58000.00 52000.00 79000.00\n",
              " [9] 83000.00 67000.00"
            ]
          },
          "metadata": {}
        }
      ]
    },
    {
      "cell_type": "code",
      "source": [
        "dataset$Salary = ifelse(is.na(dataset$Salary),\n",
        "                        ave(dataset$Salary, FUN = function(x) mean(x, na.rm = TRUE)),\n",
        "                        dataset$Salary)"
      ],
      "metadata": {
        "id": "ivnI1DZkNfbj"
      },
      "execution_count": 5,
      "outputs": []
    },
    {
      "cell_type": "markdown",
      "source": [
        "# Encoding categorical data"
      ],
      "metadata": {
        "id": "h63ki3zYNlgU"
      }
    },
    {
      "cell_type": "code",
      "source": [
        "factor(dataset$Country,\n",
        "                         levels = c('France', 'Spain', 'Germany'),\n",
        "                         labels = c(1, 2, 3))"
      ],
      "metadata": {
        "id": "F_EzUVYiNidm",
        "outputId": "a2e9204e-6704-4013-c570-f49f977b7b0d",
        "colab": {
          "base_uri": "https://localhost:8080/",
          "height": 52
        }
      },
      "execution_count": 6,
      "outputs": [
        {
          "output_type": "display_data",
          "data": {
            "text/html": [
              "<style>\n",
              ".list-inline {list-style: none; margin:0; padding: 0}\n",
              ".list-inline>li {display: inline-block}\n",
              ".list-inline>li:not(:last-child)::after {content: \"\\00b7\"; padding: 0 .5ex}\n",
              "</style>\n",
              "<ol class=list-inline><li>1</li><li>2</li><li>3</li><li>2</li><li>3</li><li>1</li><li>2</li><li>1</li><li>3</li><li>1</li></ol>\n",
              "\n",
              "<details>\n",
              "\t<summary style=display:list-item;cursor:pointer>\n",
              "\t\t<strong>Levels</strong>:\n",
              "\t</summary>\n",
              "\t<style>\n",
              "\t.list-inline {list-style: none; margin:0; padding: 0}\n",
              "\t.list-inline>li {display: inline-block}\n",
              "\t.list-inline>li:not(:last-child)::after {content: \"\\00b7\"; padding: 0 .5ex}\n",
              "\t</style>\n",
              "\t<ol class=list-inline><li>'1'</li><li>'2'</li><li>'3'</li></ol>\n",
              "</details>"
            ],
            "text/markdown": "1. 1\n2. 2\n3. 3\n4. 2\n5. 3\n6. 1\n7. 2\n8. 1\n9. 3\n10. 1\n\n\n\n**Levels**: 1. '1'\n2. '2'\n3. '3'\n\n\n",
            "text/latex": "\\begin{enumerate*}\n\\item 1\n\\item 2\n\\item 3\n\\item 2\n\\item 3\n\\item 1\n\\item 2\n\\item 1\n\\item 3\n\\item 1\n\\end{enumerate*}\n\n\\emph{Levels}: \\begin{enumerate*}\n\\item '1'\n\\item '2'\n\\item '3'\n\\end{enumerate*}\n",
            "text/plain": [
              " [1] 1 2 3 2 3 1 2 1 3 1\n",
              "Levels: 1 2 3"
            ]
          },
          "metadata": {}
        }
      ]
    },
    {
      "cell_type": "code",
      "source": [
        "dataset$Country = factor(dataset$Country,\n",
        "                         levels = c('France', 'Spain', 'Germany'),\n",
        "                         labels = c(1, 2, 3))"
      ],
      "metadata": {
        "id": "TIDpE31BNoOv"
      },
      "execution_count": 7,
      "outputs": []
    },
    {
      "cell_type": "code",
      "source": [
        "factor(dataset$Purchased,\n",
        "                           levels = c('No', 'Yes'),\n",
        "                           labels = c(0, 1))"
      ],
      "metadata": {
        "id": "r7Kn4OfxNqIy",
        "outputId": "01bf2ebe-116c-4d97-8ab7-3c426444fbdc",
        "colab": {
          "base_uri": "https://localhost:8080/",
          "height": 52
        }
      },
      "execution_count": 8,
      "outputs": [
        {
          "output_type": "display_data",
          "data": {
            "text/html": [
              "<style>\n",
              ".list-inline {list-style: none; margin:0; padding: 0}\n",
              ".list-inline>li {display: inline-block}\n",
              ".list-inline>li:not(:last-child)::after {content: \"\\00b7\"; padding: 0 .5ex}\n",
              "</style>\n",
              "<ol class=list-inline><li>0</li><li>1</li><li>0</li><li>0</li><li>1</li><li>1</li><li>0</li><li>1</li><li>0</li><li>1</li></ol>\n",
              "\n",
              "<details>\n",
              "\t<summary style=display:list-item;cursor:pointer>\n",
              "\t\t<strong>Levels</strong>:\n",
              "\t</summary>\n",
              "\t<style>\n",
              "\t.list-inline {list-style: none; margin:0; padding: 0}\n",
              "\t.list-inline>li {display: inline-block}\n",
              "\t.list-inline>li:not(:last-child)::after {content: \"\\00b7\"; padding: 0 .5ex}\n",
              "\t</style>\n",
              "\t<ol class=list-inline><li>'0'</li><li>'1'</li></ol>\n",
              "</details>"
            ],
            "text/markdown": "1. 0\n2. 1\n3. 0\n4. 0\n5. 1\n6. 1\n7. 0\n8. 1\n9. 0\n10. 1\n\n\n\n**Levels**: 1. '0'\n2. '1'\n\n\n",
            "text/latex": "\\begin{enumerate*}\n\\item 0\n\\item 1\n\\item 0\n\\item 0\n\\item 1\n\\item 1\n\\item 0\n\\item 1\n\\item 0\n\\item 1\n\\end{enumerate*}\n\n\\emph{Levels}: \\begin{enumerate*}\n\\item '0'\n\\item '1'\n\\end{enumerate*}\n",
            "text/plain": [
              " [1] 0 1 0 0 1 1 0 1 0 1\n",
              "Levels: 0 1"
            ]
          },
          "metadata": {}
        }
      ]
    },
    {
      "cell_type": "code",
      "source": [
        "dataset$Purchased = factor(dataset$Purchased,\n",
        "                           levels = c('No', 'Yes'),\n",
        "                           labels = c(0, 1))"
      ],
      "metadata": {
        "id": "cYuMJVbmMriM"
      },
      "execution_count": 9,
      "outputs": []
    },
    {
      "cell_type": "code",
      "source": [
        "dataset"
      ],
      "metadata": {
        "id": "w26P6f-ENyWi",
        "outputId": "f2f8f70d-10e3-4bc7-b488-7bcf2caa696f",
        "colab": {
          "base_uri": "https://localhost:8080/",
          "height": 412
        }
      },
      "execution_count": 10,
      "outputs": [
        {
          "output_type": "display_data",
          "data": {
            "text/html": [
              "<table class=\"dataframe\">\n",
              "<caption>A data.frame: 10 × 4</caption>\n",
              "<thead>\n",
              "\t<tr><th scope=col>Country</th><th scope=col>Age</th><th scope=col>Salary</th><th scope=col>Purchased</th></tr>\n",
              "\t<tr><th scope=col>&lt;fct&gt;</th><th scope=col>&lt;dbl&gt;</th><th scope=col>&lt;dbl&gt;</th><th scope=col>&lt;fct&gt;</th></tr>\n",
              "</thead>\n",
              "<tbody>\n",
              "\t<tr><td>1</td><td>44.00000</td><td>72000.00</td><td>0</td></tr>\n",
              "\t<tr><td>2</td><td>27.00000</td><td>48000.00</td><td>1</td></tr>\n",
              "\t<tr><td>3</td><td>30.00000</td><td>54000.00</td><td>0</td></tr>\n",
              "\t<tr><td>2</td><td>38.00000</td><td>61000.00</td><td>0</td></tr>\n",
              "\t<tr><td>3</td><td>40.00000</td><td>63777.78</td><td>1</td></tr>\n",
              "\t<tr><td>1</td><td>35.00000</td><td>58000.00</td><td>1</td></tr>\n",
              "\t<tr><td>2</td><td>38.77778</td><td>52000.00</td><td>0</td></tr>\n",
              "\t<tr><td>1</td><td>48.00000</td><td>79000.00</td><td>1</td></tr>\n",
              "\t<tr><td>3</td><td>50.00000</td><td>83000.00</td><td>0</td></tr>\n",
              "\t<tr><td>1</td><td>37.00000</td><td>67000.00</td><td>1</td></tr>\n",
              "</tbody>\n",
              "</table>\n"
            ],
            "text/markdown": "\nA data.frame: 10 × 4\n\n| Country &lt;fct&gt; | Age &lt;dbl&gt; | Salary &lt;dbl&gt; | Purchased &lt;fct&gt; |\n|---|---|---|---|\n| 1 | 44.00000 | 72000.00 | 0 |\n| 2 | 27.00000 | 48000.00 | 1 |\n| 3 | 30.00000 | 54000.00 | 0 |\n| 2 | 38.00000 | 61000.00 | 0 |\n| 3 | 40.00000 | 63777.78 | 1 |\n| 1 | 35.00000 | 58000.00 | 1 |\n| 2 | 38.77778 | 52000.00 | 0 |\n| 1 | 48.00000 | 79000.00 | 1 |\n| 3 | 50.00000 | 83000.00 | 0 |\n| 1 | 37.00000 | 67000.00 | 1 |\n\n",
            "text/latex": "A data.frame: 10 × 4\n\\begin{tabular}{llll}\n Country & Age & Salary & Purchased\\\\\n <fct> & <dbl> & <dbl> & <fct>\\\\\n\\hline\n\t 1 & 44.00000 & 72000.00 & 0\\\\\n\t 2 & 27.00000 & 48000.00 & 1\\\\\n\t 3 & 30.00000 & 54000.00 & 0\\\\\n\t 2 & 38.00000 & 61000.00 & 0\\\\\n\t 3 & 40.00000 & 63777.78 & 1\\\\\n\t 1 & 35.00000 & 58000.00 & 1\\\\\n\t 2 & 38.77778 & 52000.00 & 0\\\\\n\t 1 & 48.00000 & 79000.00 & 1\\\\\n\t 3 & 50.00000 & 83000.00 & 0\\\\\n\t 1 & 37.00000 & 67000.00 & 1\\\\\n\\end{tabular}\n",
            "text/plain": [
              "   Country Age      Salary   Purchased\n",
              "1  1       44.00000 72000.00 0        \n",
              "2  2       27.00000 48000.00 1        \n",
              "3  3       30.00000 54000.00 0        \n",
              "4  2       38.00000 61000.00 0        \n",
              "5  3       40.00000 63777.78 1        \n",
              "6  1       35.00000 58000.00 1        \n",
              "7  2       38.77778 52000.00 0        \n",
              "8  1       48.00000 79000.00 1        \n",
              "9  3       50.00000 83000.00 0        \n",
              "10 1       37.00000 67000.00 1        "
            ]
          },
          "metadata": {}
        }
      ]
    },
    {
      "cell_type": "code",
      "source": [],
      "metadata": {
        "id": "_68VzOQmN6Fr"
      },
      "execution_count": null,
      "outputs": []
    }
  ],
  "metadata": {
    "colab": {
      "name": "Welcome To Colaboratory",
      "provenance": []
    },
    "kernelspec": {
      "display_name": "R",
      "name": "ir"
    },
    "language_info": {
      "name": "R"
    }
  },
  "nbformat": 4,
  "nbformat_minor": 0
}